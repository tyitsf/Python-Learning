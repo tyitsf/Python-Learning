{
 "cells": [
  {
   "cell_type": "code",
   "execution_count": 90,
   "metadata": {
    "scrolled": true
   },
   "outputs": [],
   "source": [
    "import pymysql as msql\n",
    "import pandas as pd\n",
    "import numpy as np\n",
    "\n",
    "db = msql.connect(\"localhost\",\"root\",\"david\",\"products\")\n",
    "#sql = 'SELECT product_name, customer_id, sum(product_num) amt FROM products.orders where product_source =1 group by customer_id, product_name'\n",
    "sql = \"SELECT product_name, customer_id, sum(product_num) FROM products.orders where product_source =1 group by product_name, customer_id\"\n",
    "df = pd.read_sql(sql,con=db)\n",
    "\n",
    "\n",
    "\n",
    "df.to_excel('D:/Project/MyCustomer2.0/forPivot.xlsx')\n",
    "\n",
    "#数据透视表处理\n",
    "dt = df.pivot('customer_id','product_name','amt')\n",
    "\n",
    "# 按照每个产品，获取所有有这个产品的订单，再看其他产品的个数\n",
    "column_name = list(dt.columns)\n",
    "output = pd.DataFrame(dt.columns)\n",
    "for name in column_name:\n",
    "    non_zero =  dt[dt[name].notnull()]\n",
    "    non_zero = non_zero.fillna(0)\n",
    "    merge_sum = non_zero.sum(axis=0)\n",
    "    output[name]=merge_sum.data\n",
    "\n",
    "#输出的结果，需要行列转换一下\n",
    "output.to_excel('D:/Project/MyCustomer2.0/Prod_rel.xlsx')\n",
    "\n",
    "\n",
    "# 取百分比\n",
    "data=np.array(output)\n",
    "data = np.delete(data, 0,axis=1)\n",
    "proc_data = np.array(data)\n",
    "\n",
    "for i in range(0,len(data)):\n",
    "    for j in range(0,len(data)):\n",
    "               proc_data[i][j] = data[i][j]/data[j][j]\n",
    "            \n",
    "# print(proc_data)\n",
    "df = pd.DataFrame(proc_data.T)\n",
    "df.index = column_name\n",
    "df.to_excel('D:/Project/MyCustomer2.0/Prod_rel_converted.xlsx')"
   ]
  },
  {
   "cell_type": "code",
   "execution_count": null,
   "metadata": {},
   "outputs": [],
   "source": []
  }
 ],
 "metadata": {
  "kernelspec": {
   "display_name": "Python 3",
   "language": "python",
   "name": "python3"
  },
  "language_info": {
   "codemirror_mode": {
    "name": "ipython",
    "version": 3
   },
   "file_extension": ".py",
   "mimetype": "text/x-python",
   "name": "python",
   "nbconvert_exporter": "python",
   "pygments_lexer": "ipython3",
   "version": "3.6.3"
  }
 },
 "nbformat": 4,
 "nbformat_minor": 2
}
